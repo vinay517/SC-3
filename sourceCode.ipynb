{
 "cells": [
  {
   "cell_type": "code",
   "execution_count": 1,
   "metadata": {
    "collapsed": true
   },
   "outputs": [],
   "source": [
    "#libraries\n",
    "import numpy as np\n",
    "import pandas as pd\n",
    "import matplotlib.pyplot as plt\n",
    "%matplotlib inline\n",
    "import sys\n",
    "import random\n",
    "from pandas_ml import ConfusionMatrix\n"
   ]
  },
  {
   "cell_type": "code",
   "execution_count": 2,
   "metadata": {
    "collapsed": true
   },
   "outputs": [],
   "source": [
    "# defining class #backprop \n",
    "class NN(object):\n",
    "    def __init__(self,inputLayerNodes,hiddenLayerNodes,outputLayerNodes,n_layers=3):\n",
    "        self.Layer1_2Weights = np.random.rand(inputLayerNodes, hiddenLayerNodes)\n",
    "        self.Layer2_3Weights = np.random.rand(hiddenLayerNodes, outputLayerNodes)\n",
    "    \n",
    "    def sigmoid(self,z, Derivative = False):\n",
    "        if(Derivative == False):\n",
    "            return (1.0/(1+np.exp(-z)))\n",
    "        elif(Derivative == True):\n",
    "            return self.sigmoid(z,Derivative = False)*(1-self.sigmoid(z, Derivative = False))\n",
    "    def Forward_Propogation(self,x,y):\n",
    "        self.z2 = np.dot(x,self.Layer1_2Weights)\n",
    "        self.a2 = self.sigmoid(self.z2, Derivative = False) \n",
    "        self.z3 = np.dot(self.z2,self.Layer2_3Weights)\n",
    "        self.a3 = self.sigmoid(self.z3, Derivative = False)\n",
    "        y_predicted = self.a3\n",
    "        #print(np.shape(y),type(y_predicted))\n",
    "        error_value = 0.5 * (np.sum(np.square(y-y_predicted)))\n",
    "        return y_predicted, error_value\n",
    "    \n",
    "    def back_Propogation(self,x,y,learning_rate=0.0001):\n",
    "        self.z2 = np.dot(x,self.Layer1_2Weights)\n",
    "        self.a2 = self.sigmoid(self.z2, Derivative = False) \n",
    "        self.z3 = np.dot(self.z2,self.Layer2_3Weights)\n",
    "        self.a3 = self.sigmoid(self.z3, Derivative = False)\n",
    "        y_predicted = self.a3\n",
    "        delta3 = -(y-y_predicted)\n",
    "        D2 = np.dot(self.a2.T, delta3)\n",
    "        rho = np.dot(delta3,self.Layer2_3Weights.T)\n",
    "        delta2 = np.multiply(rho,self.sigmoid(self.z2, Derivative = True))\n",
    "        D1 = np.dot(np.transpose(x),delta2)\n",
    "        self.Layer1_2Weights = self.Layer1_2Weights - (learning_rate * D1)\n",
    "        self.Layer2_3Weights = self.Layer2_3Weights - (learning_rate * D2)\n"
   ]
  },
  {
   "cell_type": "code",
   "execution_count": 3,
   "metadata": {},
   "outputs": [
    {
     "ename": "SyntaxError",
     "evalue": "invalid syntax (<ipython-input-3-e6231e5124cd>, line 8)",
     "output_type": "error",
     "traceback": [
      "\u001b[1;36m  File \u001b[1;32m\"<ipython-input-3-e6231e5124cd>\"\u001b[1;36m, line \u001b[1;32m8\u001b[0m\n\u001b[1;33m    x_train, y_train = feature_scaling((train.drop(['col0','class'], axis =1))), train.class\u001b[0m\n\u001b[1;37m                                                                                           ^\u001b[0m\n\u001b[1;31mSyntaxError\u001b[0m\u001b[1;31m:\u001b[0m invalid syntax\n"
     ]
    }
   ],
   "source": [
    "#train, validate and testing \n",
    "def load_data_with_preprocessing():\n",
    "    df = pd.read_csv('assign1ex.csv')\n",
    "    df = df.dropna()\n",
    "    print(len(df))\n",
    "    train, validate, test = np.split(df.sample(frac=1), [int(.6*len(df)), int(.8*len(df))])\n",
    "    x_train, y_train = feature_scaling((train.drop(['col0','class'], axis =1))), train.class\n",
    "    x_validate, y_validate = feature_scaling((validate.drop(['col0','class'], axis =1))), validate.class\n",
    "    x_test, y_test = feature_scaling((test.drop(['col0','class'], axis =1))), test.class\n",
    "    return np.array(x_train, dtype =np.float64),np.array(x_validate, dtype =np.float64),np.array(x_test, dtype =np.float64),np.array(y_train, dtype =np.float64),np.array(y_validate, dtype =np.float64),np.array(y_test, dtype =np.float64)\n"
   ]
  },
  {
   "cell_type": "code",
   "execution_count": null,
   "metadata": {
    "collapsed": true
   },
   "outputs": [],
   "source": [
    "def feature_scaling(x):\n",
    "    x = (x - x.mean())/(x.max()-x.min())\n",
    "    return x\n"
   ]
  },
  {
   "cell_type": "code",
   "execution_count": 4,
   "metadata": {},
   "outputs": [
    {
     "ename": "NameError",
     "evalue": "name 'load_data_with_preprocessing' is not defined",
     "output_type": "error",
     "traceback": [
      "\u001b[1;31m---------------------------------------------------------------------------\u001b[0m",
      "\u001b[1;31mNameError\u001b[0m                                 Traceback (most recent call last)",
      "\u001b[1;32m<ipython-input-4-2ecc6fcba2a1>\u001b[0m in \u001b[0;36m<module>\u001b[1;34m()\u001b[0m\n\u001b[0;32m     31\u001b[0m     \u001b[1;32mreturn\u001b[0m \u001b[0my_test\u001b[0m\u001b[1;33m,\u001b[0m \u001b[0my_predicted_test\u001b[0m\u001b[1;33m\u001b[0m\u001b[0m\n\u001b[0;32m     32\u001b[0m \u001b[1;33m\u001b[0m\u001b[0m\n\u001b[1;32m---> 33\u001b[1;33m \u001b[0my_test\u001b[0m\u001b[1;33m,\u001b[0m \u001b[0my_predicted_test\u001b[0m \u001b[1;33m=\u001b[0m \u001b[0mmain\u001b[0m\u001b[1;33m(\u001b[0m\u001b[1;33m)\u001b[0m\u001b[1;33m\u001b[0m\u001b[0m\n\u001b[0m\u001b[0;32m     34\u001b[0m \u001b[1;33m\u001b[0m\u001b[0m\n\u001b[0;32m     35\u001b[0m \u001b[0my_predict_class\u001b[0m \u001b[1;33m=\u001b[0m \u001b[1;33m[\u001b[0m\u001b[1;33m]\u001b[0m\u001b[1;33m\u001b[0m\u001b[0m\n",
      "\u001b[1;32m<ipython-input-4-2ecc6fcba2a1>\u001b[0m in \u001b[0;36mmain\u001b[1;34m()\u001b[0m\n\u001b[0;32m      2\u001b[0m \u001b[1;33m\u001b[0m\u001b[0m\n\u001b[0;32m      3\u001b[0m     \u001b[0mnum_iterations\u001b[0m \u001b[1;33m=\u001b[0m \u001b[1;36m1000\u001b[0m\u001b[1;33m\u001b[0m\u001b[0m\n\u001b[1;32m----> 4\u001b[1;33m     \u001b[0mx_train\u001b[0m\u001b[1;33m,\u001b[0m\u001b[0mx_validate\u001b[0m\u001b[1;33m,\u001b[0m\u001b[0mx_test\u001b[0m\u001b[1;33m,\u001b[0m\u001b[0my_train\u001b[0m\u001b[1;33m,\u001b[0m\u001b[0my_validate\u001b[0m\u001b[1;33m,\u001b[0m\u001b[0my_test\u001b[0m \u001b[1;33m=\u001b[0m \u001b[0mload_data_with_preprocessing\u001b[0m\u001b[1;33m(\u001b[0m\u001b[1;33m)\u001b[0m\u001b[1;33m\u001b[0m\u001b[0m\n\u001b[0m\u001b[0;32m      5\u001b[0m     \u001b[0mnn\u001b[0m \u001b[1;33m=\u001b[0m \u001b[0mNN\u001b[0m\u001b[1;33m(\u001b[0m\u001b[0mlen\u001b[0m\u001b[1;33m(\u001b[0m\u001b[0mx_train\u001b[0m\u001b[1;33m[\u001b[0m\u001b[1;36m0\u001b[0m\u001b[1;33m]\u001b[0m\u001b[1;33m)\u001b[0m\u001b[1;33m,\u001b[0m\u001b[1;36m5\u001b[0m\u001b[1;33m,\u001b[0m\u001b[1;36m1\u001b[0m\u001b[1;33m,\u001b[0m\u001b[1;36m3\u001b[0m\u001b[1;33m)\u001b[0m\u001b[1;33m\u001b[0m\u001b[0m\n\u001b[0;32m      6\u001b[0m     \u001b[0mcurrent_error\u001b[0m \u001b[1;33m=\u001b[0m \u001b[1;36m0\u001b[0m\u001b[1;33m\u001b[0m\u001b[0m\n",
      "\u001b[1;31mNameError\u001b[0m: name 'load_data_with_preprocessing' is not defined"
     ]
    }
   ],
   "source": [
    "def main():\n",
    "    \n",
    "    num_iterations = 1000\n",
    "    x_train,x_validate,x_test,y_train,y_validate,y_test = load_data_with_preprocessing()\n",
    "    nn = NN(len(x_train[0]),5,1,3)\n",
    "    current_error = 0\n",
    "    validation_error = 0\n",
    "    train_error = 0\n",
    "    validation_error = 0\n",
    "    for i in range(num_iterations):\n",
    "        temp = train_error\n",
    "        temp_ = validation_error\n",
    "        blabla, train_error = nn.Forward_Propogation(x_train,np.vstack(y_train))\n",
    "        blabla, validation_error = nn.Forward_Propogation(x_validate,np.vstack(y_validate))\n",
    "        current_error = train_error\n",
    "        current_error_v = validation_error\n",
    "        temp_f = current_error + validation_error\n",
    "        if((temp_f > temp + temp_) & (i > 10)):\n",
    "            break\n",
    "        nn.back_Propogation(x_train,np.vstack(y_train),0.01)\n",
    "        plt.scatter(i,train_error,color='c')\n",
    "        plt.scatter(i,validation_error,color='r') \n",
    "    plt.legend(['error_training','error_validation'])    \n",
    "    plt.xlabel('num_iterations')\n",
    "    plt.ylabel('error function')\n",
    "    plt.title('error function vs num_iterations')\n",
    "    plt.show()\n",
    "    y_predicted_test,error_test = nn.Forward_Propogation(x_test,np.vstack(y_test))\n",
    "    \n",
    "    \n",
    "    return y_test, y_predicted_test\n",
    "\n",
    "y_test, y_predicted_test = main()\n",
    "\n",
    "y_predict_class = []\n",
    "for i in range(len(y_predicted_test)):\n",
    "    x = np.mean(y_predicted_test)\n",
    "    if(y_predicted_test[i] > x):\n",
    "        y_predict_class.append(1)\n",
    "    else:\n",
    "        y_predict_class.append(0)\n",
    "Actual = y_test\n",
    "Predicted = y_predict_class\n",
    "confusion_matrix = ConfusionMatrix(Actual,Predicted)\n",
    "print(\"Confusion Matrix:\\n%s\" %confusion_matrix)\n"
   ]
  },
  {
   "cell_type": "code",
   "execution_count": null,
   "metadata": {
    "collapsed": true
   },
   "outputs": [],
   "source": []
  }
 ],
 "metadata": {
  "kernelspec": {
   "display_name": "Python 3",
   "language": "python",
   "name": "python3"
  },
  "language_info": {
   "codemirror_mode": {
    "name": "ipython",
    "version": 3
   },
   "file_extension": ".py",
   "mimetype": "text/x-python",
   "name": "python",
   "nbconvert_exporter": "python",
   "pygments_lexer": "ipython3",
   "version": "3.6.3"
  }
 },
 "nbformat": 4,
 "nbformat_minor": 2
}
